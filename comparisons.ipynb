{
 "cells": [
  {
   "attachments": {},
   "cell_type": "markdown",
   "metadata": {},
   "source": [
    "# A simple notebook to compare variant of MAP-Elites"
   ]
  },
  {
   "cell_type": "code",
   "execution_count": 1,
   "metadata": {},
   "outputs": [],
   "source": [
    "#-- Necessary Imports\n",
    "import numpy as np\n",
    "from os.path import exists\n",
    "import os\n",
    "import subprocess\n",
    "from tqdm import tqdm\n",
    "import matplotlib.pyplot as plt\n",
    "import matplotlib as mpl\n",
    "from glob import glob\n",
    "\n",
    "%matplotlib inline\n",
    "font = {'size'   : 10}\n",
    "mpl.rc('font', **font)\n"
   ]
  },
  {
   "cell_type": "code",
   "execution_count": 2,
   "metadata": {},
   "outputs": [],
   "source": [
    "# compilation\n",
    "!  clang++ -DMITCHELL -O3 -march=native -std=c++14 -I /usr/local/include/eigen3 map_elites.cpp -o map_elites_1\n",
    "!  clang++ -O3 -march=native -std=c++14 -I /usr/local/include/eigen3 map_elites.cpp -o map_elites_2\n"
   ]
  },
  {
   "cell_type": "code",
   "execution_count": 3,
   "metadata": {},
   "outputs": [
    {
     "name": "stderr",
     "output_type": "stream",
     "text": [
      "100%|██████████| 20/20 [06:01<00:00, 18.10s/it]\n",
      "100%|██████████| 20/20 [05:15<00:00, 15.77s/it]\n"
     ]
    }
   ],
   "source": [
    "n_replicates = 20\n",
    "for i in tqdm(range(n_replicates)):\n",
    "    subprocess.run(f\"mkdir -p v1_{i} &&  ./map_elites_1 && cp *.dat v1_{i}\", shell=True, stdout=subprocess.DEVNULL)\n",
    "for i in tqdm(range(n_replicates)):\n",
    "    subprocess.run(f\"mkdir -p v2_{i} &&  ./map_elites_2 && cp *.dat v2_{i}\", shell=True, stdout=subprocess.DEVNULL)\n",
    "\n"
   ]
  },
  {
   "cell_type": "code",
   "execution_count": 5,
   "metadata": {},
   "outputs": [
    {
     "ename": "NameError",
     "evalue": "name 'x' is not defined",
     "output_type": "error",
     "traceback": [
      "\u001b[0;31m---------------------------------------------------------------------------\u001b[0m",
      "\u001b[0;31mNameError\u001b[0m                                 Traceback (most recent call last)",
      "Cell \u001b[0;32mIn [5], line 11\u001b[0m\n\u001b[1;32m      8\u001b[0m         d \u001b[39m+\u001b[39m\u001b[39m=\u001b[39m [data[:,\u001b[39m1\u001b[39m]]\n\u001b[1;32m      9\u001b[0m     \u001b[39mreturn\u001b[39;00m np\u001b[39m.\u001b[39marray(d), x\n\u001b[0;32m---> 11\u001b[0m \u001b[39mprint\u001b[39m(x)\n\u001b[1;32m     12\u001b[0m v1, x \u001b[39m=\u001b[39m load_data(\u001b[39m\"\u001b[39m\u001b[39mv1*/qd.dat\u001b[39m\u001b[39m\"\u001b[39m)\n\u001b[1;32m     13\u001b[0m v2, x \u001b[39m=\u001b[39m load_data(\u001b[39m\"\u001b[39m\u001b[39mv2*/qd.dat\u001b[39m\u001b[39m\"\u001b[39m)\n",
      "\u001b[0;31mNameError\u001b[0m: name 'x' is not defined"
     ]
    }
   ],
   "source": [
    "def load_data(path):\n",
    "    l = glob(path)\n",
    "    d = []\n",
    "    x = []\n",
    "    for i in l:\n",
    "        data = np.loadtxt(i)\n",
    "        x = data[:,0]\n",
    "        d += [data[:,1]]\n",
    "    return np.array(d), x\n",
    "\n",
    "v1, x = load_data(\"v1*/qd.dat\")\n",
    "v2, x = load_data(\"v2*/qd.dat\")\n",
    "print(v1.shape, v2.shape)\n",
    "\n",
    "def stats(d):\n",
    "    med = np.median(d, axis=0)\n",
    "    p25 = np.percentile(d, 25, axis=0)\n",
    "    p75 = np.percentile(d, 75, axis=0)\n",
    "    return med, p25, p75\n",
    "\n",
    "v1_s = stats(v1)\n",
    "v2_s = stats(v2)"
   ]
  },
  {
   "cell_type": "code",
   "execution_count": null,
   "metadata": {},
   "outputs": [
    {
     "data": {
      "text/plain": [
       "<matplotlib.legend.Legend at 0x166367790>"
      ]
     },
     "execution_count": 166,
     "metadata": {},
     "output_type": "execute_result"
    },
    {
     "data": {
      "image/png": "[encoded data removed]",
      "text/plain": [
       "<Figure size 1000x500 with 1 Axes>"
      ]
     },
     "metadata": {},
     "output_type": "display_data"
    }
   ],
   "source": [
    "fig = plt.figure(figsize=(10,5))\n",
    "\n",
    "ax = fig.add_subplot(111)\n",
    "ax.fill_between(x, v1_s[1], v1_s[2], color='red', alpha=0.5)\n",
    "ax.plot(x, v1_s[0],color='red', label='v1')\n",
    "\n",
    "ax.fill_between(x, v2_s[1], v2_s[2], color='blue', alpha=0.5)\n",
    "ax.plot(x, v2_s[0],color='blue', label=\"v2\")\n",
    "ax.legend()\n"
   ]
  },
  {
   "cell_type": "code",
   "execution_count": null,
   "metadata": {},
   "outputs": [],
   "source": []
  },
  {
   "cell_type": "code",
   "execution_count": null,
   "metadata": {},
   "outputs": [],
   "source": []
  }
 ],
 "metadata": {
  "kernelspec": {
   "display_name": "Python 3",
   "language": "python",
   "name": "python3"
  },
  "language_info": {
   "codemirror_mode": {
    "name": "ipython",
    "version": 3
   },
   "file_extension": ".py",
   "mimetype": "text/x-python",
   "name": "python",
   "nbconvert_exporter": "python",
   "pygments_lexer": "ipython3",
   "version": "3.10.8"
  },
  "orig_nbformat": 4,
  "vscode": {
   "interpreter": {
    "hash": "aee8b7b246df8f9039afb4144a1f6fd8d2ca17a180786b69acc140d282b71a49"
   }
  }
 },
 "nbformat": 4,
 "nbformat_minor": 2
}
